{
 "cells": [
  {
   "cell_type": "markdown",
   "metadata": {},
   "source": [
    "# Changing the system model\n",
    "\n",
    "In Ocelot, the system model is defined by a list of transforming functions.\n",
    "\n",
    "In the current version, this looks something like this:\n",
    "\n",
    "    default_configuration = [\n",
    "        variable_names_are_unique,\n",
    "        # There are a *lot* of missing mandatory properties\n",
    "        # No point adding them to this report\n",
    "        # ensure_mandatory_properties,\n",
    "        validate_markets,\n",
    "        fix_ecoinvent_parameters,\n",
    "        pv_cleanup,\n",
    "        cleanup_activity_links,\n",
    "        manage_activity_links,\n",
    "        handle_waste_outputs,\n",
    "        cutoff_allocation,\n",
    "        drop_rp_activity_links,\n",
    "        link_markets,\n",
    "        # extrapolate to database reference year\n",
    "        # normalize_reference_production_amount\n",
    "        # final output processing\n",
    "    ]\n",
    "\n",
    "When we run the system model, we do something like this:\n",
    "\n",
    "    system_model(path_to_data)\n",
    "    \n",
    "Running the system model like this will use the default configuration. We can specify a different configuration like this:\n",
    "\n",
    "    system_model(path_to_data, another_list_of_functions)\n",
    "    \n",
    "In this notebook, we will develop a silly system model, and show how to define this other list of functions."
   ]
  },
  {
   "cell_type": "code",
   "execution_count": 1,
   "metadata": {
    "collapsed": true
   },
   "outputs": [],
   "source": [
    "from ocelot import default_configuration, system_model"
   ]
  },
  {
   "cell_type": "markdown",
   "metadata": {},
   "source": [
    "## The default system model configuration\n",
    "\n",
    "Our default configuration is a list of functions as objects:"
   ]
  },
  {
   "cell_type": "code",
   "execution_count": 2,
   "metadata": {
    "collapsed": false
   },
   "outputs": [
    {
     "data": {
      "text/plain": [
       "[<function ocelot.transformations.parameterization.validation.variable_names_are_unique>,\n",
       " <ocelot.collection.Collection at 0x10e19c898>,\n",
       " <ocelot.collection.Collection at 0x10e196828>,\n",
       " <ocelot.collection.Collection at 0x10e196780>,\n",
       " <ocelot.collection.Collection at 0x10e1472e8>,\n",
       " <ocelot.collection.Collection at 0x10e196f60>,\n",
       " <ocelot.collection.Collection at 0x10fe56550>,\n",
       " <ocelot.collection.Collection at 0x10fe7aac8>,\n",
       " <function ocelot.transformations.cutoff.cleanup.drop_rp_activity_links>,\n",
       " <ocelot.collection.Collection at 0x10fe645f8>]"
      ]
     },
     "execution_count": 2,
     "metadata": {},
     "output_type": "execute_result"
    }
   ],
   "source": [
    "default_configuration"
   ]
  },
  {
   "cell_type": "markdown",
   "metadata": {},
   "source": [
    "This isn't that useful, as we can't see what the names are. But we can test for equality.\n",
    "\n",
    "## Finding a specific part of the default system model\n",
    "\n",
    "In our silly system model, we want to replace the allocation step. The allocation collection is called `cutoff_allocation`. We can import it and test where it is:"
   ]
  },
  {
   "cell_type": "code",
   "execution_count": 3,
   "metadata": {
    "collapsed": true
   },
   "outputs": [],
   "source": [
    "from ocelot.transformations.cutoff import cutoff_allocation"
   ]
  },
  {
   "cell_type": "code",
   "execution_count": 4,
   "metadata": {
    "collapsed": false
   },
   "outputs": [
    {
     "name": "stdout",
     "output_type": "stream",
     "text": [
      "False\n",
      "False\n",
      "False\n",
      "False\n",
      "False\n",
      "False\n",
      "False\n",
      "True\n",
      "False\n",
      "False\n"
     ]
    }
   ],
   "source": [
    "for func in default_configuration:\n",
    "    print(func == cutoff_allocation)"
   ]
  },
  {
   "cell_type": "markdown",
   "metadata": {},
   "source": [
    "We can also find the index in the list of functions:"
   ]
  },
  {
   "cell_type": "code",
   "execution_count": 5,
   "metadata": {
    "collapsed": false
   },
   "outputs": [
    {
     "data": {
      "text/plain": [
       "7"
      ]
     },
     "execution_count": 5,
     "metadata": {},
     "output_type": "execute_result"
    }
   ],
   "source": [
    "allocation_function_index = default_configuration.index(cutoff_allocation)\n",
    "allocation_function_index"
   ]
  },
  {
   "cell_type": "markdown",
   "metadata": {},
   "source": [
    "## Creating new allocation functions\n",
    "\n",
    "Let's handle allocation in a completely non-sensical way. Here are some rules which will always produce a single reference product:\n",
    "\n",
    "* Delete all byproducts\n",
    "* If there are more than one reference product, choose the first one that we find\n",
    "\n",
    "It should be clear, but this **is not a real system model**. Don't use it for real.\n",
    "\n",
    "We split this into two transforming functions:\n",
    "\n",
    "First, to delete all byproducts, we use the function [nonreference product](https://github.com/OcelotProject/Ocelot/blob/master/ocelot/transformations/utils.py#L236). Note that this function modifies the exchange in place, so we don't need to return it."
   ]
  },
  {
   "cell_type": "code",
   "execution_count": 6,
   "metadata": {
    "collapsed": true
   },
   "outputs": [],
   "source": [
    "from ocelot.transformations.utils import nonreference_product\n",
    "\n",
    "def delete_all_byproducts(data):\n",
    "    \"\"\"Handle allocatable byproducts by deleting them all.\"\"\"\n",
    "    all_byproducts = (exc for ds in data for exc in ds['exchanges'] if exc['type'] == 'byproduct')\n",
    "    for exc in all_byproducts:\n",
    "        nonreference_product(exc)\n",
    "    return data"
   ]
  },
  {
   "cell_type": "markdown",
   "metadata": {},
   "source": [
    "Next, do the same thing to all reference production exchanges past the first one we find:"
   ]
  },
  {
   "cell_type": "code",
   "execution_count": 7,
   "metadata": {
    "collapsed": true
   },
   "outputs": [],
   "source": [
    "def there_can_be_only_one(data):\n",
    "    \"\"\"Zero out every reference production exchange past the first one in a dataset\"\"\"\n",
    "    for ds in data:\n",
    "        rp_iterator = (exc for exc in ds['exchanges'] if exc['type'] == 'reference product')\n",
    "        found = False  # Reset for each dataset\n",
    "        for exc in rp_iterator:\n",
    "            if not found:\n",
    "                # Don't do anything to the first reference production exchange\n",
    "                found = True\n",
    "                continue\n",
    "            else:\n",
    "                # This is the second (or higher) reference production exchange\n",
    "                # We delete these\n",
    "                nonreference_product(exc)\n",
    "    return data"
   ]
  },
  {
   "cell_type": "markdown",
   "metadata": {},
   "source": [
    "And we can define our allocation method as a list of these two functions:"
   ]
  },
  {
   "cell_type": "code",
   "execution_count": 8,
   "metadata": {
    "collapsed": true
   },
   "outputs": [],
   "source": [
    "our_allocation = [delete_all_byproducts, there_can_be_only_one]"
   ]
  },
  {
   "cell_type": "markdown",
   "metadata": {},
   "source": [
    "## Replacing the allocation in the system model\n",
    "\n",
    "We know the index in the list of system model functions, so we can just replace it by using this index:"
   ]
  },
  {
   "cell_type": "code",
   "execution_count": 9,
   "metadata": {
    "collapsed": true
   },
   "outputs": [],
   "source": [
    "default_configuration[allocation_function_index] = our_allocation"
   ]
  },
  {
   "cell_type": "markdown",
   "metadata": {},
   "source": [
    "Let's test to make sure this worked:"
   ]
  },
  {
   "cell_type": "code",
   "execution_count": 10,
   "metadata": {
    "collapsed": false
   },
   "outputs": [
    {
     "data": {
      "text/plain": [
       "[<function ocelot.transformations.parameterization.validation.variable_names_are_unique>,\n",
       " <ocelot.collection.Collection at 0x10e19c898>,\n",
       " <ocelot.collection.Collection at 0x10e196828>,\n",
       " <ocelot.collection.Collection at 0x10e196780>,\n",
       " <ocelot.collection.Collection at 0x10e1472e8>,\n",
       " <ocelot.collection.Collection at 0x10e196f60>,\n",
       " <ocelot.collection.Collection at 0x10fe56550>,\n",
       " [<function __main__.delete_all_byproducts>,\n",
       "  <function __main__.there_can_be_only_one>],\n",
       " <function ocelot.transformations.cutoff.cleanup.drop_rp_activity_links>,\n",
       " <ocelot.collection.Collection at 0x10fe645f8>]"
      ]
     },
     "execution_count": 10,
     "metadata": {},
     "output_type": "execute_result"
    }
   ],
   "source": [
    "default_configuration"
   ]
  },
  {
   "cell_type": "markdown",
   "metadata": {},
   "source": [
    "And we can now run this system model:\n",
    "\n",
    "(You will need to change the data path to fit your computer)"
   ]
  },
  {
   "cell_type": "code",
   "execution_count": 11,
   "metadata": {
    "collapsed": false
   },
   "outputs": [
    {
     "name": "stdout",
     "output_type": "stream",
     "text": [
      "Starting Ocelot model run\n",
      "Using cached ecospold2 data\n",
      "Opening log file at: /Users/cmutel/Library/Application Support/Ocelot/model-runs/c054d50497c241e6b097cc0a275615fe/report.log.json\n",
      "Applying transformation variable_names_are_unique\n",
      "Applying transformation ensure_markets_only_have_one_reference_product\n",
      "Applying transformation ensure_markets_dont_consume_their_ref_product\n",
      "Applying transformation fix_specific_ecoinvent_issues\n",
      "Applying transformation replace_implicit_references\n",
      "Applying transformation fix_known_bad_formula_strings\n",
      "Applying transformation lowercase_all_parameters\n",
      "Applying transformation fix_math_formulas\n",
      "Applying transformation replace_reserved_words\n",
      "Applying transformation delete_unparsable_formulas\n",
      "Applying transformation ensure_production_exchanges_have_production_volume\n",
      "Applying transformation add_pv_to_allocatable_byproducts\n",
      "Applying transformation create_pv_parameters\n",
      "Applying transformation remove_consequential_exchanges\n",
      "Applying transformation drop_rp_activity_links\n",
      "Applying transformation drop_zero_amount_activity_links\n",
      "Applying transformation check_activity_link_validity\n",
      "Applying transformation add_hard_linked_production_volumes\n",
      "Applying transformation rename_recyclable_content_exchanges\n",
      "Applying transformation create_recycled_content_datasets\n",
      "Applying transformation flip_non_allocatable_byproducts\n",
      "Applying transformation delete_all_byproducts\n",
      "Applying transformation there_can_be_only_one\n",
      "Applying transformation drop_rp_activity_links\n",
      "Applying transformation label_reference_product\n",
      "Applying transformation delete_allowed_zero_pv_market_datsets\n",
      "Applying transformation assign_fake_pv_to_confidential_datasets\n",
      "Applying transformation relabel_global_to_row\n",
      "Applying transformation add_unique_codes\n",
      "Applying transformation actualize_activity_links\n",
      "Applying transformation add_recycled_content_suppliers_to_markets\n",
      "Applying transformation add_suppliers_to_markets\n",
      "Applying transformation update_market_production_volumes\n",
      "Applying transformation add_suppliers_to_markets\n",
      "Applying transformation update_market_production_volumes\n",
      "Applying transformation allocate_suppliers\n",
      "Skipping zero total PV with multiple inputs:\n",
      "\tmarket for cottonseed oil, crude/cottonseed oil, crude (GLO, 0 suppliers)\n",
      "Skipping zero total PV with multiple inputs:\n",
      "\tmarket for naphtha/naphtha (RoW, 0 suppliers)\n",
      "Skipping zero total PV with multiple inputs:\n",
      "\tmarket for naphtha/naphtha (RER, 0 suppliers)\n",
      "Skipping zero total PV with multiple inputs:\n",
      "\tmarket for platinum/platinum (GLO, 0 suppliers)\n",
      "Skipping zero total PV with multiple inputs:\n",
      "\tmarket for whey/whey (GLO, 0 suppliers)\n",
      "Skipping zero total PV with multiple inputs:\n",
      "\tmarket for soybean oil, crude/soybean oil, crude (GLO, 0 suppliers)\n",
      "Skipping zero total PV with multiple inputs:\n",
      "\tmarket for wood chips, dry, measured as dry mass/wood chips, dry, measured as dry mass (RER, 0 suppliers)\n",
      "Skipping zero total PV with multiple inputs:\n",
      "\tmarket for wood chips, dry, measured as dry mass/wood chips, dry, measured as dry mass (RoW, 0 suppliers)\n",
      "Skipping zero total PV with multiple inputs:\n",
      "\tmarket for krypton, gaseous/krypton, gaseous (GLO, 0 suppliers)\n",
      "Skipping zero total PV with multiple inputs:\n",
      "\tmarket for p-dichlorobenzene/p-dichlorobenzene (GLO, 0 suppliers)\n",
      "Skipping zero total PV with multiple inputs:\n",
      "\tmarket for isobutanol/isobutanol (GLO, 0 suppliers)\n",
      "Skipping zero total PV with multiple inputs:\n",
      "\tmarket for deinked pulp, wet lap/deinked pulp, wet lap (GLO, 0 suppliers)\n",
      "Skipping zero total PV with multiple inputs:\n",
      "\tmarket for indium rich leaching residues, from zinc production/indium rich leaching residues, from zinc production (GLO, 0 suppliers)\n",
      "Skipping zero total PV with multiple inputs:\n",
      "\tmarket for palm kernel oil, crude/palm kernel oil, crude (GLO, 0 suppliers)\n",
      "Skipping zero total PV with multiple inputs:\n",
      "\tmarket for calcium chloride/calcium chloride (GLO, 0 suppliers)\n",
      "Skipping zero total PV with multiple inputs:\n",
      "\tmarket for petroleum coke/petroleum coke (GLO, 0 suppliers)\n",
      "Skipping zero total PV with multiple inputs:\n",
      "\tmarket for sewage sludge, dried/sewage sludge, dried (GLO, 0 suppliers)\n",
      "Skipping zero total PV with multiple inputs:\n",
      "\tmarket for buttermilk, from cow milk/buttermilk, from cow milk (GLO, 0 suppliers)\n",
      "Skipping zero total PV with multiple inputs:\n",
      "\tmarket for straw/straw (GLO, 0 suppliers)\n",
      "Skipping zero total PV with multiple inputs:\n",
      "\tmarket for rape meal/rape meal (GLO, 0 suppliers)\n",
      "Skipping zero total PV with multiple inputs:\n",
      "\tmarket for diethylene glycol/diethylene glycol (GLO, 0 suppliers)\n",
      "Skipping zero total PV with multiple inputs:\n",
      "\tmarket for monochlorobenzene/monochlorobenzene (GLO, 0 suppliers)\n",
      "Skipping zero total PV with multiple inputs:\n",
      "\tmarket for heat, for reuse in municipal waste incineration only/heat, for reuse in municipal waste incineration only (PT, 0 suppliers)\n",
      "Skipping zero total PV with multiple inputs:\n",
      "\tmarket for heat, for reuse in municipal waste incineration only/heat, for reuse in municipal waste incineration only (DE, 0 suppliers)\n",
      "Skipping zero total PV with multiple inputs:\n",
      "\tmarket for heat, for reuse in municipal waste incineration only/heat, for reuse in municipal waste incineration only (LU, 0 suppliers)\n",
      "Skipping zero total PV with multiple inputs:\n",
      "\tmarket for heat, for reuse in municipal waste incineration only/heat, for reuse in municipal waste incineration only (JP, 0 suppliers)\n",
      "Skipping zero total PV with multiple inputs:\n",
      "\tmarket for heat, for reuse in municipal waste incineration only/heat, for reuse in municipal waste incineration only (IT, 0 suppliers)\n",
      "Skipping zero total PV with multiple inputs:\n",
      "\tmarket for heat, for reuse in municipal waste incineration only/heat, for reuse in municipal waste incineration only (BE, 0 suppliers)\n",
      "Skipping zero total PV with multiple inputs:\n",
      "\tmarket for heat, for reuse in municipal waste incineration only/heat, for reuse in municipal waste incineration only (PL, 0 suppliers)\n",
      "Skipping zero total PV with multiple inputs:\n",
      "\tmarket for heat, for reuse in municipal waste incineration only/heat, for reuse in municipal waste incineration only (BG, 0 suppliers)\n",
      "Skipping zero total PV with multiple inputs:\n",
      "\tmarket for heat, for reuse in municipal waste incineration only/heat, for reuse in municipal waste incineration only (NL, 0 suppliers)\n",
      "Skipping zero total PV with multiple inputs:\n",
      "\tmarket for heat, for reuse in municipal waste incineration only/heat, for reuse in municipal waste incineration only (SE, 0 suppliers)\n",
      "Skipping zero total PV with multiple inputs:\n",
      "\tmarket for heat, for reuse in municipal waste incineration only/heat, for reuse in municipal waste incineration only (FR, 0 suppliers)\n",
      "Skipping zero total PV with multiple inputs:\n",
      "\tmarket for heat, for reuse in municipal waste incineration only/heat, for reuse in municipal waste incineration only (SK, 0 suppliers)\n",
      "Skipping zero total PV with multiple inputs:\n",
      "\tmarket for heat, for reuse in municipal waste incineration only/heat, for reuse in municipal waste incineration only (FI, 0 suppliers)\n",
      "Skipping zero total PV with multiple inputs:\n",
      "\tmarket for heat, for reuse in municipal waste incineration only/heat, for reuse in municipal waste incineration only (HU, 0 suppliers)\n",
      "Skipping zero total PV with multiple inputs:\n",
      "\tmarket for heat, for reuse in municipal waste incineration only/heat, for reuse in municipal waste incineration only (GB, 0 suppliers)\n",
      "Skipping zero total PV with multiple inputs:\n",
      "\tmarket for heat, for reuse in municipal waste incineration only/heat, for reuse in municipal waste incineration only (RU, 0 suppliers)\n",
      "Skipping zero total PV with multiple inputs:\n",
      "\tmarket for heat, for reuse in municipal waste incineration only/heat, for reuse in municipal waste incineration only (TR, 0 suppliers)\n",
      "Skipping zero total PV with multiple inputs:\n",
      "\tmarket for heat, for reuse in municipal waste incineration only/heat, for reuse in municipal waste incineration only (KR, 0 suppliers)\n",
      "Skipping zero total PV with multiple inputs:\n",
      "\tmarket for heat, for reuse in municipal waste incineration only/heat, for reuse in municipal waste incineration only (CH, 0 suppliers)\n",
      "Skipping zero total PV with multiple inputs:\n",
      "\tmarket for heat, for reuse in municipal waste incineration only/heat, for reuse in municipal waste incineration only (RoW, 0 suppliers)\n",
      "Skipping zero total PV with multiple inputs:\n",
      "\tmarket for heat, for reuse in municipal waste incineration only/heat, for reuse in municipal waste incineration only (AT, 0 suppliers)\n",
      "Skipping zero total PV with multiple inputs:\n",
      "\tmarket for heat, for reuse in municipal waste incineration only/heat, for reuse in municipal waste incineration only (CZ, 0 suppliers)\n",
      "Skipping zero total PV with multiple inputs:\n",
      "\tmarket for heat, for reuse in municipal waste incineration only/heat, for reuse in municipal waste incineration only (NO, 0 suppliers)\n",
      "Skipping zero total PV with multiple inputs:\n",
      "\tmarket for heat, for reuse in municipal waste incineration only/heat, for reuse in municipal waste incineration only (ES, 0 suppliers)\n",
      "Skipping zero total PV with multiple inputs:\n",
      "\tmarket for heat, for reuse in municipal waste incineration only/heat, for reuse in municipal waste incineration only (DK, 0 suppliers)\n",
      "Skipping zero total PV with multiple inputs:\n",
      "\tmarket for heat, for reuse in municipal waste incineration only/heat, for reuse in municipal waste incineration only (TW, 0 suppliers)\n",
      "Skipping zero total PV with multiple inputs:\n",
      "\tmarket for cement, blast furnace slag 31-50% and 31-50% other alternative constituents/cement, blast furnace slag 31-50% and 31-50% other alternative constituents (RoW, 0 suppliers)\n",
      "Skipping zero total PV with multiple inputs:\n",
      "\tmarket for cement, pozzolana and fly ash 11-35%/cement, pozzolana and fly ash 11-35%, non-US (CH, 0 suppliers)\n",
      "Skipping zero total PV with multiple inputs:\n",
      "\tmarket for cement, pozzolana and fly ash 11-35%/cement, pozzolana and fly ash 11-35%, non-US (RoW, 0 suppliers)\n",
      "Skipping zero total PV with multiple inputs:\n",
      "\tmarket for liquefied petroleum gas/liquefied petroleum gas (RoW, 0 suppliers)\n",
      "Skipping zero total PV with multiple inputs:\n",
      "\tmarket for lead concentrate/lead concentrate (GLO, 0 suppliers)\n",
      "Skipping zero total PV with multiple inputs:\n",
      "\tmarket for wood chips, from post-consumer wood, measured as dry mass/wood chips, from post-consumer wood, measured as dry mass (GLO, 0 suppliers)\n",
      "Skipping zero total PV with multiple inputs:\n",
      "\tmarket group for diesel/diesel (RER, 2 suppliers)\n",
      "Skipping zero total PV with multiple inputs:\n",
      "\tmarket for acetonitrile/acetonitrile (GLO, 0 suppliers)\n",
      "Skipping zero total PV with multiple inputs:\n",
      "\tmarket for slab and siding, hardwood, wet, measured as dry mass/slab and siding, hardwood, wet, measured as dry mass (GLO, 0 suppliers)\n",
      "Skipping zero total PV with multiple inputs:\n",
      "\tmarket for cream, from cow milk/cream, from cow milk (GLO, 0 suppliers)\n",
      "Skipping zero total PV with multiple inputs:\n",
      "\tmarket for lanthanum oxide/lanthanum oxide (GLO, 0 suppliers)\n",
      "Skipping zero total PV with multiple inputs:\n",
      "\tmarket for ground granulated blast furnace slag/ground granulated blast furnace slag (GLO, 0 suppliers)\n",
      "Skipping zero total PV with multiple inputs:\n",
      "\tmarket for heavy fuel oil/heavy fuel oil (CH, 0 suppliers)\n",
      "Skipping zero total PV with multiple inputs:\n",
      "\tmarket for heavy fuel oil/heavy fuel oil (Europe without Switzerland, 0 suppliers)\n",
      "Skipping zero total PV with multiple inputs:\n",
      "\tmarket for heavy fuel oil/heavy fuel oil (RoW, 0 suppliers)\n",
      "Skipping zero total PV with multiple inputs:\n",
      "\tmarket for kerosene/kerosene (RoW, 0 suppliers)\n",
      "Skipping zero total PV with multiple inputs:\n",
      "\tmarket for anode slime, silver and tellurium containing, from primary copper production/anode slime, silver and tellurium containing, from primary copper production (GLO, 0 suppliers)\n",
      "Skipping zero total PV with multiple inputs:\n",
      "\tmarket for cement, blast furnace slag 18-30% and 18-30% other alternative constituents/cement, blast furnace slag 18-30% and 18-30% other alternative constituents (RoW, 0 suppliers)\n",
      "Skipping zero total PV with multiple inputs:\n",
      "\tmarket for shavings, hardwood, measured as dry mass/shavings, hardwood, measured as dry mass (GLO, 0 suppliers)\n",
      "Skipping zero total PV with multiple inputs:\n",
      "\tmarket group for heavy fuel oil/heavy fuel oil (RER, 2 suppliers)\n",
      "Skipping zero total PV with multiple inputs:\n",
      "\tmarket for electricity, for reuse in municipal waste incineration only/electricity, for reuse in municipal waste incineration only (CH, 0 suppliers)\n",
      "Skipping zero total PV with multiple inputs:\n",
      "\tmarket for electricity, for reuse in municipal waste incineration only/electricity, for reuse in municipal waste incineration only (SE, 0 suppliers)\n",
      "Skipping zero total PV with multiple inputs:\n",
      "\tmarket for electricity, for reuse in municipal waste incineration only/electricity, for reuse in municipal waste incineration only (PT, 0 suppliers)\n",
      "Skipping zero total PV with multiple inputs:\n",
      "\tmarket for electricity, for reuse in municipal waste incineration only/electricity, for reuse in municipal waste incineration only (BE, 0 suppliers)\n",
      "Skipping zero total PV with multiple inputs:\n",
      "\tmarket for electricity, for reuse in municipal waste incineration only/electricity, for reuse in municipal waste incineration only (CA-NB, 0 suppliers)\n",
      "Skipping zero total PV with multiple inputs:\n",
      "\tmarket for electricity, for reuse in municipal waste incineration only/electricity, for reuse in municipal waste incineration only (PL, 0 suppliers)\n",
      "Skipping zero total PV with multiple inputs:\n",
      "\tmarket for electricity, for reuse in municipal waste incineration only/electricity, for reuse in municipal waste incineration only (NO, 0 suppliers)\n",
      "Skipping zero total PV with multiple inputs:\n",
      "\tmarket for electricity, for reuse in municipal waste incineration only/electricity, for reuse in municipal waste incineration only (KR, 0 suppliers)\n",
      "Skipping zero total PV with multiple inputs:\n",
      "\tmarket for electricity, for reuse in municipal waste incineration only/electricity, for reuse in municipal waste incineration only (RoW, 0 suppliers)\n",
      "Skipping zero total PV with multiple inputs:\n",
      "\tmarket for electricity, for reuse in municipal waste incineration only/electricity, for reuse in municipal waste incineration only (BG, 0 suppliers)\n",
      "Skipping zero total PV with multiple inputs:\n",
      "\tmarket for electricity, for reuse in municipal waste incineration only/electricity, for reuse in municipal waste incineration only (AT, 0 suppliers)\n",
      "Skipping zero total PV with multiple inputs:\n",
      "\tmarket for electricity, for reuse in municipal waste incineration only/electricity, for reuse in municipal waste incineration only (LU, 0 suppliers)\n",
      "Skipping zero total PV with multiple inputs:\n",
      "\tmarket for electricity, for reuse in municipal waste incineration only/electricity, for reuse in municipal waste incineration only (DE, 0 suppliers)\n",
      "Skipping zero total PV with multiple inputs:\n",
      "\tmarket for electricity, for reuse in municipal waste incineration only/electricity, for reuse in municipal waste incineration only (CA-AB, 0 suppliers)\n",
      "Skipping zero total PV with multiple inputs:\n",
      "\tmarket for electricity, for reuse in municipal waste incineration only/electricity, for reuse in municipal waste incineration only (ES, 0 suppliers)\n",
      "Skipping zero total PV with multiple inputs:\n",
      "\tmarket for electricity, for reuse in municipal waste incineration only/electricity, for reuse in municipal waste incineration only (TW, 0 suppliers)\n",
      "Skipping zero total PV with multiple inputs:\n",
      "\tmarket for electricity, for reuse in municipal waste incineration only/electricity, for reuse in municipal waste incineration only (HU, 0 suppliers)\n",
      "Skipping zero total PV with multiple inputs:\n",
      "\tmarket for electricity, for reuse in municipal waste incineration only/electricity, for reuse in municipal waste incineration only (CA-NS, 0 suppliers)\n",
      "Skipping zero total PV with multiple inputs:\n",
      "\tmarket for electricity, for reuse in municipal waste incineration only/electricity, for reuse in municipal waste incineration only (NL, 0 suppliers)\n",
      "Skipping zero total PV with multiple inputs:\n",
      "\tmarket for electricity, for reuse in municipal waste incineration only/electricity, for reuse in municipal waste incineration only (SK, 0 suppliers)\n",
      "Skipping zero total PV with multiple inputs:\n",
      "\tmarket for electricity, for reuse in municipal waste incineration only/electricity, for reuse in municipal waste incineration only (JP, 0 suppliers)\n",
      "Skipping zero total PV with multiple inputs:\n",
      "\tmarket for electricity, for reuse in municipal waste incineration only/electricity, for reuse in municipal waste incineration only (FI, 0 suppliers)\n",
      "Skipping zero total PV with multiple inputs:\n",
      "\tmarket for electricity, for reuse in municipal waste incineration only/electricity, for reuse in municipal waste incineration only (DK, 0 suppliers)\n",
      "Skipping zero total PV with multiple inputs:\n",
      "\tmarket for electricity, for reuse in municipal waste incineration only/electricity, for reuse in municipal waste incineration only (CA-PE, 0 suppliers)\n",
      "Skipping zero total PV with multiple inputs:\n",
      "\tmarket for electricity, for reuse in municipal waste incineration only/electricity, for reuse in municipal waste incineration only (CA-ON, 0 suppliers)\n",
      "Skipping zero total PV with multiple inputs:\n",
      "\tmarket for electricity, for reuse in municipal waste incineration only/electricity, for reuse in municipal waste incineration only (GB, 0 suppliers)\n",
      "Skipping zero total PV with multiple inputs:\n",
      "\tmarket for electricity, for reuse in municipal waste incineration only/electricity, for reuse in municipal waste incineration only (FR, 0 suppliers)\n",
      "Skipping zero total PV with multiple inputs:\n",
      "\tmarket for electricity, for reuse in municipal waste incineration only/electricity, for reuse in municipal waste incineration only (CZ, 0 suppliers)\n",
      "Skipping zero total PV with multiple inputs:\n",
      "\tmarket for electricity, for reuse in municipal waste incineration only/electricity, for reuse in municipal waste incineration only (RU, 0 suppliers)\n",
      "Skipping zero total PV with multiple inputs:\n",
      "\tmarket for electricity, for reuse in municipal waste incineration only/electricity, for reuse in municipal waste incineration only (TR, 0 suppliers)\n",
      "Skipping zero total PV with multiple inputs:\n",
      "\tmarket for electricity, for reuse in municipal waste incineration only/electricity, for reuse in municipal waste incineration only (IT, 0 suppliers)\n",
      "Skipping zero total PV with multiple inputs:\n",
      "\tmarket for helium, crude/helium, crude (GLO, 0 suppliers)\n",
      "Skipping zero total PV with multiple inputs:\n",
      "\tmarket for diesel/diesel (RoW, 0 suppliers)\n",
      "Skipping zero total PV with multiple inputs:\n",
      "\tmarket for diesel/diesel (CH, 0 suppliers)\n",
      "Skipping zero total PV with multiple inputs:\n",
      "\tmarket for diesel/diesel (Europe without Switzerland, 0 suppliers)\n",
      "Skipping zero total PV with multiple inputs:\n",
      "\tmarket for neodymium oxide/neodymium oxide (GLO, 0 suppliers)\n",
      "Skipping zero total PV with multiple inputs:\n",
      "\tmarket for bark chips, wet, measured as dry mass/bark chips, wet, measured as dry mass (GLO, 0 suppliers)\n",
      "Skipping zero total PV with multiple inputs:\n",
      "\tmarket for cattle for slaughtering, live weight/cattle for slaughtering, live weight (GLO, 0 suppliers)\n",
      "Skipping zero total PV with multiple inputs:\n",
      "\tmarket for cement, alternative constituents 6-20%/cement, alternative constituents 6-20% (CH, 0 suppliers)\n",
      "Skipping zero total PV with multiple inputs:\n",
      "\tmarket for cement, alternative constituents 6-20%/cement, alternative constituents 6-20% (RoW, 0 suppliers)\n",
      "Skipping zero total PV with multiple inputs:\n",
      "\tmarket for cement, pozzolana and fly ash 36-55%/cement, pozzolana and fly ash 36-55%,non-US (RoW, 0 suppliers)\n",
      "Skipping zero total PV with multiple inputs:\n",
      "\tmarket for cement, pozzolana and fly ash 36-55%/cement, pozzolana and fly ash 36-55%,non-US (Europe without Switzerland, 0 suppliers)\n",
      "Skipping zero total PV with multiple inputs:\n",
      "\tmarket for 3-methyl-1-butanol/3-methyl-1-butanol (GLO, 0 suppliers)\n",
      "Skipping zero total PV with multiple inputs:\n",
      "\tmarket for sulfur/sulfur (GLO, 0 suppliers)\n",
      "Skipping zero total PV with multiple inputs:\n",
      "\tmarket for petrol, unleaded/petrol, unleaded (RoW, 0 suppliers)\n",
      "Skipping zero total PV with multiple inputs:\n",
      "\tmarket for petrol, unleaded/petrol, unleaded (RER, 0 suppliers)\n",
      "Skipping zero total PV with multiple inputs:\n",
      "\tmarket for skimmed milk, from cow milk/skimmed milk, from cow milk (GLO, 0 suppliers)\n",
      "Skipping zero total PV with multiple inputs:\n",
      "\tmarket for praseodymium oxide/praseodymium oxide (GLO, 0 suppliers)\n",
      "Skipping zero total PV with multiple inputs:\n",
      "\tmarket for methyl acetate/methyl acetate (GLO, 0 suppliers)\n",
      "Skipping zero total PV with multiple inputs:\n",
      "\tmarket for cement, alternative constituents 21-35%/cement, alternative constituents 21-35% (Europe without Switzerland, 0 suppliers)\n",
      "Skipping zero total PV with multiple inputs:\n",
      "\tmarket for cement, alternative constituents 21-35%/cement, alternative constituents 21-35% (CH, 0 suppliers)\n",
      "Skipping zero total PV with multiple inputs:\n",
      "\tmarket for cement, alternative constituents 21-35%/cement, alternative constituents 21-35% (RoW, 0 suppliers)\n",
      "Skipping zero total PV with multiple inputs:\n",
      "\tmarket for cerium concentrate, 60% cerium oxide/cerium concentrate, 60% cerium oxide (GLO, 0 suppliers)\n",
      "Skipping zero total PV with multiple inputs:\n",
      "\tmarket for heptane/heptane (GLO, 0 suppliers)\n",
      "Skipping zero total PV with multiple inputs:\n",
      "\tmarket for pyrite ash/pyrite ash (GLO, 0 suppliers)\n",
      "Skipping zero total PV with multiple inputs:\n",
      "\tmarket for anhydrite rock/anhydrite rock (GLO, 0 suppliers)\n",
      "Skipping zero total PV with multiple inputs:\n",
      "\tmarket for fluosilicic acid, without water, in 22% solution state/fluosilicic acid, without water, in 22% solution state (GLO, 0 suppliers)\n",
      "Skipping zero total PV with multiple inputs:\n",
      "\tmarket for argon, crude, liquid/argon, crude, liquid (GLO, 0 suppliers)\n",
      "Skipping zero total PV with multiple inputs:\n",
      "\tmarket for straw, organic/straw, organic (GLO, 0 suppliers)\n",
      "Skipping zero total PV with multiple inputs:\n",
      "\tmarket for diethanolamine/diethanolamine (GLO, 0 suppliers)\n",
      "Skipping zero total PV with multiple inputs:\n",
      "\tmarket for monoethanolamine/monoethanolamine (GLO, 0 suppliers)\n",
      "Skipping zero total PV with multiple inputs:\n",
      "\tmarket for slab and siding, softwood, wet, measured as dry mass/slab and siding, softwood, wet, measured as dry mass (GLO, 0 suppliers)\n",
      "Skipping zero total PV with multiple inputs:\n",
      "\tmarket for cadmium sludge from zinc electrolysis/cadmium sludge from zinc electrolysis (GLO, 0 suppliers)\n",
      "Skipping zero total PV with multiple inputs:\n",
      "\tmarket for nitrogen, liquid/nitrogen, liquid (RoW, 0 suppliers)\n",
      "Skipping zero total PV with multiple inputs:\n",
      "\tmarket for nitrogen, liquid/nitrogen, liquid (RER, 0 suppliers)\n",
      "Skipping zero total PV with multiple inputs:\n",
      "\tmarket for sodium hydroxide, without water, in 50% solution state/sodium hydroxide, without water, in 50% solution state (GLO, 0 suppliers)\n",
      "Skipping zero total PV with multiple inputs:\n",
      "\tmarket for shavings, softwood, measured as dry mass/shavings, softwood, measured as dry mass (GLO, 0 suppliers)\n",
      "Skipping zero total PV with multiple inputs:\n",
      "\tmarket for heat, future/heat, future (GLO, 10 suppliers)\n",
      "Skipping zero total PV with multiple inputs:\n",
      "\tmarket for saw dust, wet, measured as dry mass/saw dust, wet, measured as dry mass (GLO, 0 suppliers)\n",
      "Applying transformation link_consumers_to_regional_markets\n",
      "Applying transformation link_consumers_to_recycled_content_activities\n",
      "Applying transformation link_consumers_to_global_markets\n",
      "Applying transformation log_unlinked_exchanges\n",
      "Saving final results\n"
     ]
    }
   ],
   "source": [
    "output_fp, new_data = system_model(\n",
    "    \"/Users/cmutel/Documents/LCA Documents/Ecoinvent/3.2/unlinked/\", \n",
    "    default_configuration\n",
    ")"
   ]
  },
  {
   "cell_type": "markdown",
   "metadata": {},
   "source": [
    "There is a of stuff in this output, but if you search you will find our functions, and see that they have been applied."
   ]
  },
  {
   "cell_type": "code",
   "execution_count": null,
   "metadata": {
    "collapsed": true
   },
   "outputs": [],
   "source": []
  }
 ],
 "metadata": {
  "kernelspec": {
   "display_name": "Python 3",
   "language": "python",
   "name": "python3"
  },
  "language_info": {
   "codemirror_mode": {
    "name": "ipython",
    "version": 3
   },
   "file_extension": ".py",
   "mimetype": "text/x-python",
   "name": "python",
   "nbconvert_exporter": "python",
   "pygments_lexer": "ipython3",
   "version": "3.5.2"
  }
 },
 "nbformat": 4,
 "nbformat_minor": 0
}
