{
 "cells": [
  {
   "cell_type": "markdown",
   "metadata": {},
   "source": [
    "# Import Ocelot output to Brightway2\n",
    "\n",
    "## Warning: This was developed during the sumer school, it still has bugs!\n",
    "\n",
    "Import basic things from both systems"
   ]
  },
  {
   "cell_type": "code",
   "execution_count": 1,
   "metadata": {
    "collapsed": true
   },
   "outputs": [],
   "source": [
    "from ocelot import *\n",
    "from brightway2 import *"
   ]
  },
  {
   "cell_type": "markdown",
   "metadata": {},
   "source": [
    "Run the Ocelot system model. `data` is the fully linked version of the database."
   ]
  },
  {
   "cell_type": "code",
   "execution_count": 2,
   "metadata": {
    "collapsed": false
   },
   "outputs": [
    {
     "name": "stdout",
     "output_type": "stream",
     "text": [
      "Starting Ocelot model run\n",
      "Using cached ecospold2 data\n",
      "Opening log file at: /Users/cmutel/Library/Application Support/Ocelot/model-runs/299ec857aaa64278acb92a626d491bd0/report.log.json\n",
      "Applying transformation variable_names_are_unique\n",
      "Applying transformation ensure_markets_only_have_one_reference_product\n",
      "Applying transformation ensure_markets_dont_consume_their_ref_product\n",
      "Applying transformation fix_specific_ecoinvent_issues\n",
      "Applying transformation replace_implicit_references\n",
      "Applying transformation fix_known_bad_formula_strings\n",
      "Applying transformation lowercase_all_parameters\n",
      "Applying transformation fix_math_formulas\n",
      "Applying transformation replace_reserved_words\n",
      "Applying transformation delete_unparsable_formulas\n",
      "Applying transformation ensure_production_exchanges_have_production_volume\n",
      "Applying transformation add_pv_to_allocatable_byproducts\n",
      "Applying transformation create_pv_parameters\n",
      "Applying transformation remove_consequential_exchanges\n",
      "Applying transformation drop_rp_activity_links\n",
      "Applying transformation drop_zero_amount_activity_links\n",
      "Applying transformation check_activity_link_validity\n",
      "Applying transformation add_hard_linked_production_volumes\n",
      "Applying transformation rename_recyclable_content_exchanges\n",
      "Applying transformation create_recycled_content_datasets\n",
      "Applying transformation flip_non_allocatable_byproducts\n",
      "Applying transformation label_allocation_method\n",
      "Applying transformation economic_allocation\n",
      "Applying transformation constrained_market_allocation\n",
      "Applying transformation recycling_allocation\n",
      "Applying transformation waste_treatment_allocation\n",
      "Applying transformation combined_production_without_products\n",
      "Applying transformation combined_production\n"
     ]
    },
    {
     "name": "stderr",
     "output_type": "stream",
     "text": [
      "NameError\n",
      "   5.36e-11* cement+silica_fume*0+ ggbfs*0\n",
      "                     ^^^\n",
      "name 'silica_fume' is not defined\n",
      "NameError\n",
      "   5.36e-11* cement+silica_fume*0+ ggbfs*0\n",
      "                     ^^^\n",
      "name 'silica_fume' is not defined\n"
     ]
    },
    {
     "name": "stdout",
     "output_type": "stream",
     "text": [
      "Applying transformation combined_production_with_byproducts\n",
      "Applying transformation delete_allocation_method\n",
      "Applying transformation drop_rp_activity_links\n",
      "Applying transformation label_reference_product\n",
      "Applying transformation delete_allowed_zero_pv_market_datsets\n",
      "Applying transformation assign_fake_pv_to_confidential_datasets\n",
      "Applying transformation relabel_global_to_row\n",
      "Applying transformation add_unique_codes\n",
      "Applying transformation actualize_activity_links\n",
      "Applying transformation add_recycled_content_suppliers_to_markets\n",
      "Applying transformation add_suppliers_to_markets\n",
      "Applying transformation update_market_production_volumes\n",
      "Applying transformation add_suppliers_to_markets\n",
      "Applying transformation update_market_production_volumes\n",
      "Applying transformation allocate_suppliers\n",
      "Skipping zero total PV with multiple inputs:\n",
      "\tmarket for waste newspaper/waste newspaper (GLO, 3 suppliers)\n",
      "Applying transformation link_consumers_to_regional_markets\n",
      "Applying transformation link_consumers_to_recycled_content_activities\n",
      "Applying transformation link_consumers_to_global_markets\n",
      "Applying transformation add_reference_product_codes\n",
      "Applying transformation log_and_delete_unlinked_exchanges\n",
      "Saving final results\n"
     ]
    },
    {
     "name": "stderr",
     "output_type": "stream",
     "text": [
      "Warning: 'U' mode is deprecated\n",
      "Warning: 'U' mode is deprecated\n",
      "Warning: 'U' mode is deprecated\n",
      "Warning: 'U' mode is deprecated\n",
      "Warning: 'U' mode is deprecated\n",
      "Warning: 'U' mode is deprecated\n",
      "Warning: 'U' mode is deprecated\n",
      "Warning: 'U' mode is deprecated\n",
      "Warning: 'U' mode is deprecated\n",
      "Warning: 'U' mode is deprecated\n",
      "Warning: 'U' mode is deprecated\n",
      "Warning: 'U' mode is deprecated\n",
      "Warning: 'U' mode is deprecated\n",
      "Warning: 'U' mode is deprecated\n",
      "Warning: 'U' mode is deprecated\n",
      "Warning: 'U' mode is deprecated\n",
      "Warning: 'U' mode is deprecated\n",
      "Warning: 'U' mode is deprecated\n",
      "Warning: 'U' mode is deprecated\n",
      "Warning: 'U' mode is deprecated\n",
      "Warning: 'U' mode is deprecated\n",
      "Warning: 'U' mode is deprecated\n",
      "Warning: 'U' mode is deprecated\n",
      "Warning: 'U' mode is deprecated\n",
      "Warning: 'U' mode is deprecated\n",
      "Warning: 'U' mode is deprecated\n",
      "Warning: 'U' mode is deprecated\n",
      "Warning: 'U' mode is deprecated\n",
      "Warning: 'U' mode is deprecated\n",
      "Warning: 'U' mode is deprecated\n",
      "Warning: 'U' mode is deprecated\n",
      "Warning: 'U' mode is deprecated\n",
      "Warning: 'U' mode is deprecated\n",
      "Warning: 'U' mode is deprecated\n",
      "Warning: 'U' mode is deprecated\n",
      "Warning: 'U' mode is deprecated\n",
      "Warning: 'U' mode is deprecated\n",
      "Warning: 'U' mode is deprecated\n",
      "Warning: 'U' mode is deprecated\n",
      "Warning: 'U' mode is deprecated\n",
      "Warning: 'U' mode is deprecated\n",
      "Warning: 'U' mode is deprecated\n",
      "Warning: 'U' mode is deprecated\n",
      "Warning: 'U' mode is deprecated\n",
      "Warning: 'U' mode is deprecated\n",
      "Warning: 'U' mode is deprecated\n",
      "Warning: 'U' mode is deprecated\n",
      "Warning: 'U' mode is deprecated\n",
      "Warning: 'U' mode is deprecated\n"
     ]
    }
   ],
   "source": [
    "# Adapt this file path as needed\n",
    "fp, data = system_model(\"/Users/cmutel/Documents/LCA Documents/Ecoinvent/3.2/unlinked/\")"
   ]
  },
  {
   "cell_type": "markdown",
   "metadata": {},
   "source": [
    "Brightway2 splits work into [projects](https://docs.brightwaylca.org/intro.html#projects). \n",
    "\n",
    "We create a new project for this database."
   ]
  },
  {
   "cell_type": "code",
   "execution_count": 3,
   "metadata": {
    "collapsed": true
   },
   "outputs": [],
   "source": [
    "projects.set_current(\"ocelot test for summer school\")"
   ]
  },
  {
   "cell_type": "markdown",
   "metadata": {},
   "source": [
    "Create base data: LCIA methods and biosphere database."
   ]
  },
  {
   "cell_type": "code",
   "execution_count": 4,
   "metadata": {
    "collapsed": false
   },
   "outputs": [
    {
     "name": "stdout",
     "output_type": "stream",
     "text": [
      "Creating default biosphere\n",
      "\n"
     ]
    },
    {
     "name": "stderr",
     "output_type": "stream",
     "text": [
      "Writing activities to SQLite3 database:\n",
      "0%                          100%\n",
      "[###                           ] | ETA: 00:00:01"
     ]
    },
    {
     "name": "stdout",
     "output_type": "stream",
     "text": [
      "Applying strategy: normalize_units\n",
      "Applying strategy: drop_unspecified_subcategories\n",
      "Applied 2 strategies in 0.01 seconds\n"
     ]
    },
    {
     "name": "stderr",
     "output_type": "stream",
     "text": [
      "[##############################] | ETA: 00:00:00\n",
      "Total time elapsed: 00:00:00\n"
     ]
    },
    {
     "name": "stdout",
     "output_type": "stream",
     "text": [
      "Title: Writing activities to SQLite3 database:\n",
      "  Started: 09/08/2016 16:02:46\n",
      "  Finished: 09/08/2016 16:02:47\n",
      "  Total time elapsed: 00:00:00\n",
      "  CPU %: 92.30\n",
      "  Memory %: 26.26\n",
      "Created database: biosphere3\n",
      "Creating default LCIA methods\n",
      "\n",
      "Applying strategy: normalize_units\n",
      "Applying strategy: set_biosphere_type\n",
      "Applying strategy: drop_unspecified_subcategories\n",
      "Applying strategy: link_iterable_by_fields\n",
      "Applied 4 strategies in 1.74 seconds\n",
      "Wrote 665 LCIA methods with 169551 characterization factors\n",
      "Creating core data migrations\n",
      "\n"
     ]
    }
   ],
   "source": [
    "bw2setup()"
   ]
  },
  {
   "cell_type": "markdown",
   "metadata": {
    "collapsed": false
   },
   "source": [
    "Import the Brightway2 importer/conversion utility."
   ]
  },
  {
   "cell_type": "code",
   "execution_count": 6,
   "metadata": {
    "collapsed": true
   },
   "outputs": [],
   "source": [
    "from ocelot.io.brightway2 import *"
   ]
  },
  {
   "cell_type": "markdown",
   "metadata": {},
   "source": [
    "Create a new Brightway2 database"
   ]
  },
  {
   "cell_type": "code",
   "execution_count": 7,
   "metadata": {
    "collapsed": false
   },
   "outputs": [
    {
     "name": "stdout",
     "output_type": "stream",
     "text": [
      "Creating database `ecoinvent 3.2 cutoff (ocelot)` in project `ocelot test for summer school`\n",
      "Applying strategy: normalize_units\n",
      "Applying strategy: drop_unspecified_subcategories\n",
      "Applying strategy: strip_biosphere_exc_locations\n",
      "Applied 3 strategies in 0.50 seconds\n",
      "Applying strategy: link_iterable_by_fields\n"
     ]
    },
    {
     "name": "stderr",
     "output_type": "stream",
     "text": [
      "Writing activities to SQLite3 database:\n",
      "0%                          100%\n",
      "[                              ]"
     ]
    },
    {
     "name": "stdout",
     "output_type": "stream",
     "text": [
      "13245 datasets\n",
      "391343 exchanges\n",
      "0 unlinked exchanges\n",
      "  \n",
      "Writing database\n"
     ]
    },
    {
     "name": "stderr",
     "output_type": "stream",
     "text": [
      "[##############################] | ETA: 00:00:00\n",
      "Total time elapsed: 00:01:19\n"
     ]
    },
    {
     "name": "stdout",
     "output_type": "stream",
     "text": [
      "Title: Writing activities to SQLite3 database:\n",
      "  Started: 09/08/2016 16:05:18\n",
      "  Finished: 09/08/2016 16:06:37\n",
      "  Total time elapsed: 00:01:19\n",
      "  CPU %: 89.90\n",
      "  Memory %: 25.40\n",
      "Created database: ecoinvent 3.2 cutoff (ocelot)\n"
     ]
    },
    {
     "data": {
      "text/plain": [
       "Brightway2 SQLiteBackend: ecoinvent 3.2 cutoff (ocelot)"
      ]
     },
     "execution_count": 7,
     "metadata": {},
     "output_type": "execute_result"
    }
   ],
   "source": [
    "new_db_name = \"ecoinvent 3.2 cutoff (ocelot)\"\n",
    "db = import_into_brightway2(data, new_db_name)"
   ]
  },
  {
   "cell_type": "markdown",
   "metadata": {},
   "source": [
    "Check to see how many processes are in our new database"
   ]
  },
  {
   "cell_type": "code",
   "execution_count": 8,
   "metadata": {
    "collapsed": false
   },
   "outputs": [
    {
     "name": "stdout",
     "output_type": "stream",
     "text": [
      "13245\n"
     ]
    }
   ],
   "source": [
    "len(db)"
   ]
  },
  {
   "cell_type": "code",
   "execution_count": null,
   "metadata": {
    "collapsed": true
   },
   "outputs": [],
   "source": [
    "Find an LCIA method"
   ]
  },
  {
   "cell_type": "code",
   "execution_count": 10,
   "metadata": {
    "collapsed": false
   },
   "outputs": [
    {
     "data": {
      "text/plain": [
       "[('IPCC 2007', 'GWP', '500 years'),\n",
       " ('IPCC 2013', 'GWP', '20 years'),\n",
       " ('IPCC 2007', 'GWP', '100 years'),\n",
       " ('IPCC 2013', 'GWP', '500 years'),\n",
       " ('IPCC 2013', 'GWP', '100 years'),\n",
       " ('IPCC 2001', 'climate change', 'GWP 100a'),\n",
       " ('IPCC 2001', 'climate change', 'GWP 500a'),\n",
       " ('IPCC 2001', 'climate change', 'GWP 20a'),\n",
       " ('IPCC 2007', 'GWP', '20 years')]"
      ]
     },
     "execution_count": 10,
     "metadata": {},
     "output_type": "execute_result"
    }
   ],
   "source": [
    "sorted([method for method in methods if \"IPCC\" in str(method)])  # Could also check for \"ReCiPe\""
   ]
  },
  {
   "cell_type": "markdown",
   "metadata": {},
   "source": [
    "Create a new LCA object. Pick a functional unit at random."
   ]
  },
  {
   "cell_type": "code",
   "execution_count": 11,
   "metadata": {
    "collapsed": true
   },
   "outputs": [],
   "source": [
    "lca = LCA({db.random(): 1}, method=('IPCC 2013', 'GWP', '100 years'))"
   ]
  },
  {
   "cell_type": "code",
   "execution_count": 15,
   "metadata": {
    "collapsed": false
   },
   "outputs": [
    {
     "data": {
      "text/plain": [
       "{'sodium phosphate production' (kilogram, RoW, None): 1}"
      ]
     },
     "execution_count": 15,
     "metadata": {},
     "output_type": "execute_result"
    }
   ],
   "source": [
    "lca.demand"
   ]
  },
  {
   "cell_type": "markdown",
   "metadata": {},
   "source": [
    "Factorizing the database makes subsequent calculations quicker."
   ]
  },
  {
   "cell_type": "code",
   "execution_count": 12,
   "metadata": {
    "collapsed": false
   },
   "outputs": [
    {
     "name": "stderr",
     "output_type": "stream",
     "text": [
      "Warning: (almost) singular matrix! (estimated cond. number: 2.98e+18)\n"
     ]
    }
   ],
   "source": [
    "lca.lci(factorize=True)"
   ]
  },
  {
   "cell_type": "markdown",
   "metadata": {},
   "source": [
    "Current scores are wrong!"
   ]
  },
  {
   "cell_type": "code",
   "execution_count": 14,
   "metadata": {
    "collapsed": false
   },
   "outputs": [
    {
     "data": {
      "text/plain": [
       "-3161261260216.592"
      ]
     },
     "execution_count": 14,
     "metadata": {},
     "output_type": "execute_result"
    }
   ],
   "source": [
    "lca.lcia()\n",
    "lca.score"
   ]
  },
  {
   "cell_type": "code",
   "execution_count": null,
   "metadata": {
    "collapsed": false
   },
   "outputs": [],
   "source": [
    "for ds in db:\n",
    "    lca.redo_lcia({ds: 1})\n",
    "    print(lca.score)"
   ]
  },
  {
   "cell_type": "code",
   "execution_count": null,
   "metadata": {
    "collapsed": true
   },
   "outputs": [],
   "source": []
  }
 ],
 "metadata": {
  "kernelspec": {
   "display_name": "Python 3",
   "language": "python",
   "name": "python3"
  },
  "language_info": {
   "codemirror_mode": {
    "name": "ipython",
    "version": 3
   },
   "file_extension": ".py",
   "mimetype": "text/x-python",
   "name": "python",
   "nbconvert_exporter": "python",
   "pygments_lexer": "ipython3",
   "version": "3.5.2"
  }
 },
 "nbformat": 4,
 "nbformat_minor": 0
}
